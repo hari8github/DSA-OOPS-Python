{
 "cells": [
  {
   "cell_type": "markdown",
   "id": "94634228",
   "metadata": {},
   "source": [
    "### Class Attributes\n"
   ]
  },
  {
   "cell_type": "code",
   "execution_count": null,
   "id": "0fd39ba6",
   "metadata": {},
   "outputs": [
    {
     "name": "stdout",
     "output_type": "stream",
     "text": [
      "8\n",
      "1000\n"
     ]
    }
   ],
   "source": [
    "# Class attributes are attributes which are specific to class and not to instance.\n",
    "\n",
    "class Person:\n",
    "    num_of_people = 0 # Class attribute [specific to class]\n",
    "\n",
    "    def __init__(self, name):\n",
    "        self.name = name\n",
    "\n",
    "p1 = Person(\"hari\")\n",
    "p2 = Person(\"venkat\")\n",
    "\n",
    "Person.num_of_people = 8\n",
    "print(p2.num_of_people)\n",
    "Person.num_of_people = 1000\n",
    "print(p1.num_of_people)"
   ]
  },
  {
   "cell_type": "code",
   "execution_count": 3,
   "id": "7d8356d7",
   "metadata": {},
   "outputs": [
    {
     "name": "stdout",
     "output_type": "stream",
     "text": [
      "1\n",
      "2\n"
     ]
    }
   ],
   "source": [
    "class Person:\n",
    "    num_of_people = 0\n",
    "\n",
    "    def __init__(self, name):\n",
    "        self.name = name\n",
    "        Person.num_of_people += 1\n",
    "\n",
    "p1 = Person(\"hari\")\n",
    "print(Person.num_of_people)\n",
    "p2 = Person(\"venkat\")\n",
    "print(Person.num_of_people)"
   ]
  },
  {
   "cell_type": "markdown",
   "id": "525b9c4c",
   "metadata": {},
   "source": [
    "### Class methods"
   ]
  },
  {
   "cell_type": "code",
   "execution_count": 7,
   "id": "9666ed6d",
   "metadata": {},
   "outputs": [
    {
     "name": "stdout",
     "output_type": "stream",
     "text": [
      "2\n"
     ]
    }
   ],
   "source": [
    "# Class methods are methods which are specific to class and not to instance.\n",
    "\n",
    "class Person:\n",
    "    num_of_people = 0\n",
    "\n",
    "    def __init__(self, name):\n",
    "        self.name = name\n",
    "        Person.add_people_()\n",
    "\n",
    "    @classmethod\n",
    "    def num_of_people_(cls):\n",
    "        return cls.num_of_people\n",
    "\n",
    "    @classmethod\n",
    "    def add_people_(cls):\n",
    "        cls.num_of_people += 1\n",
    "\n",
    "p1 = Person(\"hari\")\n",
    "p2 = Person(\"venkat\")\n",
    "print(Person.num_of_people_())"
   ]
  },
  {
   "cell_type": "markdown",
   "id": "3f323652",
   "metadata": {},
   "source": [
    "### Static methods"
   ]
  },
  {
   "cell_type": "code",
   "execution_count": 12,
   "id": "042744b8",
   "metadata": {},
   "outputs": [
    {
     "name": "stdout",
     "output_type": "stream",
     "text": [
      "105\n",
      "110\n",
      "summa\n"
     ]
    }
   ],
   "source": [
    "# Static methods are methods which are not specific to class or instance.\n",
    "\n",
    "class Math:\n",
    "\n",
    "    @staticmethod\n",
    "    def add5(x):\n",
    "        return x + 5\n",
    "\n",
    "    @staticmethod\n",
    "    def add10(x):\n",
    "        return x + 10\n",
    "    \n",
    "    @staticmethod\n",
    "    def pr():\n",
    "        print(\"summa\")\n",
    "\n",
    "print(Math.add5(100))\n",
    "print(Math.add10(100))\n",
    "Math.pr()\n"
   ]
  },
  {
   "cell_type": "code",
   "execution_count": null,
   "id": "9ce52914",
   "metadata": {},
   "outputs": [],
   "source": []
  }
 ],
 "metadata": {
  "kernelspec": {
   "display_name": "Python 3",
   "language": "python",
   "name": "python3"
  },
  "language_info": {
   "codemirror_mode": {
    "name": "ipython",
    "version": 3
   },
   "file_extension": ".py",
   "mimetype": "text/x-python",
   "name": "python",
   "nbconvert_exporter": "python",
   "pygments_lexer": "ipython3",
   "version": "3.9.13"
  }
 },
 "nbformat": 4,
 "nbformat_minor": 5
}
