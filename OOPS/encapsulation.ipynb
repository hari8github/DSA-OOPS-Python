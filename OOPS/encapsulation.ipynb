{
 "cells": [
  {
   "cell_type": "markdown",
   "id": "6ef037fb",
   "metadata": {},
   "source": [
    "### Encapsulation"
   ]
  },
  {
   "cell_type": "code",
   "execution_count": 1,
   "id": "74db06ad",
   "metadata": {},
   "outputs": [],
   "source": [
    "# Encapsulation is the bundling of data and methods that operate on that data within a single unit, or class. \n",
    "# It restricts direct access to some of an object's components, which can prevent the accidental modification of data."
   ]
  },
  {
   "cell_type": "code",
   "execution_count": 7,
   "id": "85a4ad7d",
   "metadata": {},
   "outputs": [
    {
     "name": "stdout",
     "output_type": "stream",
     "text": [
      "-1\n"
     ]
    }
   ],
   "source": [
    "# First we will have a bad example and then refactor it to use encapsulation.\n",
    "\n",
    "class BadBankAccount():\n",
    "    def __init__(self, balance1):\n",
    "        self.balance = balance1\n",
    "\n",
    "account = BadBankAccount(0.0)\n",
    "account.balance1 = -1\n",
    "print(account.balance1)"
   ]
  },
  {
   "cell_type": "code",
   "execution_count": 13,
   "id": "5ddc45a1",
   "metadata": {},
   "outputs": [
    {
     "name": "stdout",
     "output_type": "stream",
     "text": [
      "0.0\n",
      "200.0\n",
      "100.0\n"
     ]
    },
    {
     "data": {
      "text/plain": [
       "'acc.withdraw(200)  \\nprint(acc.balance)'"
      ]
     },
     "execution_count": 13,
     "metadata": {},
     "output_type": "execute_result"
    }
   ],
   "source": [
    "class BankAccount:\n",
    "    def __init__(self):\n",
    "        self._balance = 0.0\n",
    "\n",
    "    @property  # This is a getter for the balance property\n",
    "    def balance(self):\n",
    "        return self._balance    \n",
    "\n",
    "    def deposit(self, amount): # This method allows depositing money into the account\n",
    "        if amount <= 0:\n",
    "            raise ValueError(\"Deposit amount should be positive\")\n",
    "\n",
    "        self._balance += amount\n",
    "\n",
    "    def withdraw(self, amount): # This method allows withdrawing money from the account\n",
    "        if amount <= 0:\n",
    "            raise ValueError(\"Withdraw amount should be positive\")\n",
    "        if amount > self._balance:\n",
    "            raise ValueError(\"Insufficient funds\")\n",
    "\n",
    "        self._balance -= amount\n",
    "\n",
    "acc = BankAccount()\n",
    "print(acc.balance)\n",
    "acc.deposit(200)\n",
    "print(acc.balance)\n",
    "acc.withdraw(100)\n",
    "print(acc.balance)\n",
    "\n",
    "\"\"\"acc.withdraw(200)  \n",
    "print(acc.balance)\"\"\" # This will raise an error because there are insufficient funds."
   ]
  },
  {
   "cell_type": "code",
   "execution_count": null,
   "id": "6512df5d",
   "metadata": {},
   "outputs": [],
   "source": []
  }
 ],
 "metadata": {
  "kernelspec": {
   "display_name": "Python 3",
   "language": "python",
   "name": "python3"
  },
  "language_info": {
   "codemirror_mode": {
    "name": "ipython",
    "version": 3
   },
   "file_extension": ".py",
   "mimetype": "text/x-python",
   "name": "python",
   "nbconvert_exporter": "python",
   "pygments_lexer": "ipython3",
   "version": "3.9.13"
  }
 },
 "nbformat": 4,
 "nbformat_minor": 5
}
