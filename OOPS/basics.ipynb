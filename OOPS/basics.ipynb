{
 "cells": [
  {
   "cell_type": "code",
   "execution_count": 3,
   "id": "0b28ad46",
   "metadata": {},
   "outputs": [
    {
     "name": "stdout",
     "output_type": "stream",
     "text": [
      "<class 'str'>\n",
      "<class 'int'>\n",
      "DANNY\n"
     ]
    }
   ],
   "source": [
    "name = \"Danny\"\n",
    "age = 19\n",
    "\n",
    "print(type(name))\n",
    "print(type(age))\n",
    "\n",
    "print(name.upper())"
   ]
  },
  {
   "cell_type": "code",
   "execution_count": 8,
   "id": "a8b5be7e",
   "metadata": {},
   "outputs": [
    {
     "name": "stdout",
     "output_type": "stream",
     "text": [
      "en peru batman and na oru poodle and enoda owner peru cbe\n"
     ]
    }
   ],
   "source": [
    "class Dog:\n",
    "    def __init__(self, name, breed, owner):\n",
    "        self.name = name\n",
    "        self.breed = breed\n",
    "        self.owner = owner\n",
    "\n",
    "    def bark(self):\n",
    "        print(f\"en peru {self.name} and na oru {self.breed} and enoda owner peru {self.owner}\")\n",
    "\n",
    "class Owner:\n",
    "    def __init__(self, name, address, contact_number):\n",
    "        self.name = name\n",
    "        self.address = address\n",
    "        self.phone_number = contact_number\n",
    "\n",
    "owner1 = Owner(\"hari\", \"cbe\", \"1234567890\")\n",
    "dog1 = Dog(\"batman\", \"poodle\", owner1.address)\n",
    "dog1.bark()"
   ]
  },
  {
   "cell_type": "code",
   "execution_count": 10,
   "id": "929db703",
   "metadata": {},
   "outputs": [
    {
     "name": "stdout",
     "output_type": "stream",
     "text": [
      "hello, my name is hari and i am 21 years young\n",
      "hello, my name is venkat and i am 21 years young\n"
     ]
    }
   ],
   "source": [
    "class Person:\n",
    "    def __init__(self, name, age):\n",
    "        self.name= name\n",
    "        self.age = age \n",
    "\n",
    "    def intro(self):\n",
    "        print(f\"hello, my name is {self.name} and i am {self.age} years young\")\n",
    "\n",
    "summa = Person(\"hari\", 21)\n",
    "summa.intro()\n",
    "\n",
    "summ2 = Person(\"venkat\", 21)\n",
    "summ2.intro()"
   ]
  },
  {
   "cell_type": "code",
   "execution_count": null,
   "id": "972e45f8",
   "metadata": {},
   "outputs": [],
   "source": []
  },
  {
   "cell_type": "code",
   "execution_count": null,
   "id": "8dc339ed",
   "metadata": {},
   "outputs": [],
   "source": []
  }
 ],
 "metadata": {
  "kernelspec": {
   "display_name": "Python 3",
   "language": "python",
   "name": "python3"
  },
  "language_info": {
   "codemirror_mode": {
    "name": "ipython",
    "version": 3
   },
   "file_extension": ".py",
   "mimetype": "text/x-python",
   "name": "python",
   "nbconvert_exporter": "python",
   "pygments_lexer": "ipython3",
   "version": "3.9.13"
  }
 },
 "nbformat": 4,
 "nbformat_minor": 5
}
