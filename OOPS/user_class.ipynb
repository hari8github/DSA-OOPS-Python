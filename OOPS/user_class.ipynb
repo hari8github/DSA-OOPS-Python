{
 "cells": [
  {
   "cell_type": "code",
   "execution_count": 2,
   "id": "22ac4940",
   "metadata": {},
   "outputs": [
    {
     "name": "stdout",
     "output_type": "stream",
     "text": [
      "Sending message to venkat: Hi my name is hari!!\n"
     ]
    }
   ],
   "source": [
    "class User:\n",
    "    def __init__(self, name, email, password):\n",
    "        self.name = name\n",
    "        self.email = email\n",
    "        self.password = password\n",
    "\n",
    "    def greet(self, User):\n",
    "        print(f\"Sending message to {User.name}: Hi my name is {self.name}!!\")\n",
    "\n",
    "user1 = User(\"hari\", \"hari@gmail.com\", \"!23\")\n",
    "user2 = User(\"venkat\", \"venkat@gmail.com\", \"123\")\n",
    "\n",
    "user1.greet(user2)"
   ]
  },
  {
   "cell_type": "code",
   "execution_count": 4,
   "id": "1cc28ccd",
   "metadata": {},
   "outputs": [
    {
     "data": {
      "text/plain": [
       "'!23'"
      ]
     },
     "execution_count": 4,
     "metadata": {},
     "output_type": "execute_result"
    }
   ],
   "source": [
    "user1.password"
   ]
  },
  {
   "cell_type": "code",
   "execution_count": 5,
   "id": "207328c9",
   "metadata": {},
   "outputs": [
    {
     "data": {
      "text/plain": [
       "'1234'"
      ]
     },
     "execution_count": 5,
     "metadata": {},
     "output_type": "execute_result"
    }
   ],
   "source": [
    "user1.password = \"1234\"\n",
    "user1.password"
   ]
  },
  {
   "cell_type": "markdown",
   "id": "241799d5",
   "metadata": {},
   "source": [
    "### # Accessing and Modifying Data:\n",
    "### 1 . The traditional way: make the data private and use getters and setters :"
   ]
  },
  {
   "cell_type": "code",
   "execution_count": 13,
   "id": "b9e6365b",
   "metadata": {},
   "outputs": [
    {
     "name": "stdout",
     "output_type": "stream",
     "text": [
      "  Hari@gmail.com   \n",
      "hari@gmail.com\n"
     ]
    }
   ],
   "source": [
    "class User:\n",
    "    def __init__(self, name, email, password):\n",
    "        self.name = name\n",
    "        self._email = email  # Protected (typically not accessed outside the class)\n",
    "        self.password = password\n",
    "\n",
    "    def clean_email(self):\n",
    "        return self._email.lower().strip()\n",
    "\n",
    "user1 = User(\"hari\", \"  Hari@gmail.com   \", \"!23\")\n",
    "print(user1._email) # Not supposed to do this outside the class\n",
    "\n",
    "print(user1.clean_email())"
   ]
  },
  {
   "cell_type": "markdown",
   "id": "493f6a93",
   "metadata": {},
   "source": [
    "### Consenting Adults Philosophy"
   ]
  },
  {
   "cell_type": "code",
   "execution_count": 1,
   "id": "5e40ac7a",
   "metadata": {},
   "outputs": [],
   "source": [
    "# Consenting adult philosophy\n",
    "# If you want to access protected members, you can do so, but it's not recommended.\n",
    "\n",
    "# single underscore - protected  _variable\n",
    "# double underscore - private (name mangling)  __variable\n",
    "# no underscore - public  variable"
   ]
  },
  {
   "cell_type": "code",
   "execution_count": 16,
   "id": "e145dbe6",
   "metadata": {},
   "outputs": [
    {
     "ename": "AttributeError",
     "evalue": "'Email' object has no attribute '__email'",
     "output_type": "error",
     "traceback": [
      "\u001b[1;31m---------------------------------------------------------------------------\u001b[0m",
      "\u001b[1;31mAttributeError\u001b[0m                            Traceback (most recent call last)",
      "Cell \u001b[1;32mIn[16], line 9\u001b[0m\n\u001b[0;32m      6\u001b[0m         \u001b[38;5;28;01mreturn\u001b[39;00m \u001b[38;5;28mself\u001b[39m\u001b[38;5;241m.\u001b[39m__email\n\u001b[0;32m      8\u001b[0m try1 \u001b[38;5;241m=\u001b[39m Email(\u001b[38;5;124m\"\u001b[39m\u001b[38;5;124mhari@gmail.com\u001b[39m\u001b[38;5;124m\"\u001b[39m)\n\u001b[1;32m----> 9\u001b[0m \u001b[38;5;28mprint\u001b[39m(\u001b[43mtry1\u001b[49m\u001b[38;5;241;43m.\u001b[39;49m\u001b[43m__email\u001b[49m)\n\u001b[0;32m     11\u001b[0m \u001b[38;5;66;03m#This will raise an error because __email is private and cannot be accessed directly outside the class.\u001b[39;00m\n",
      "\u001b[1;31mAttributeError\u001b[0m: 'Email' object has no attribute '__email'"
     ]
    }
   ],
   "source": [
    "class Email:\n",
    "    def __init__(self, email):\n",
    "        self.__email = email\n",
    "\n",
    "    def private(self):\n",
    "        return self.__email\n",
    "\n",
    "try1 = Email(\"hari@gmail.com\")\n",
    "print(try1.__email)\n",
    "\n",
    "#This will raise an error because __email is private and cannot be accessed directly outside the class."
   ]
  }
 ],
 "metadata": {
  "kernelspec": {
   "display_name": "Python 3",
   "language": "python",
   "name": "python3"
  },
  "language_info": {
   "codemirror_mode": {
    "name": "ipython",
    "version": 3
   },
   "file_extension": ".py",
   "mimetype": "text/x-python",
   "name": "python",
   "nbconvert_exporter": "python",
   "pygments_lexer": "ipython3",
   "version": "3.9.13"
  }
 },
 "nbformat": 4,
 "nbformat_minor": 5
}
