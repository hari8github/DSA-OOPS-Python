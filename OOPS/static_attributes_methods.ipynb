{
 "cells": [
  {
   "cell_type": "code",
   "execution_count": 3,
   "id": "10f41722",
   "metadata": {},
   "outputs": [],
   "source": [
    "# Static attributes\n",
    "\n",
    "# A static attribute is a method that belongs to the class only, not to any instance of the class.\n",
    "# It can be called on the class itself, without creating an instance."
   ]
  },
  {
   "cell_type": "code",
   "execution_count": 5,
   "id": "aef813f4",
   "metadata": {},
   "outputs": [
    {
     "name": "stdout",
     "output_type": "stream",
     "text": [
      "2\n",
      "2\n",
      "2\n"
     ]
    }
   ],
   "source": [
    "class User:\n",
    "    user_count = 0\n",
    "\n",
    "    def __init__(self, username, email):\n",
    "        self.username = username\n",
    "        self.email = email\n",
    "        User.user_count += 1\n",
    "\n",
    "    def display_user(self):\n",
    "        print(f\"Username: {self.username}, email : {self.email}\")\n",
    "\n",
    "user1 = User(\"hari\", \"hari@gmail.com\")\n",
    "user2 = User(\"venkat\", \"venkat@gmail.com\")\n",
    "\n",
    "print(User.user_count)\n",
    "print(user1.user_count)\n",
    "print(user2.user_count)"
   ]
  },
  {
   "cell_type": "code",
   "execution_count": 8,
   "id": "7e0f52db",
   "metadata": {},
   "outputs": [],
   "source": [
    "# Static methods\n",
    "\n",
    "# A static method in python is a method that belongs to the class rather than any instance of the class.\n",
    "# It can be called on the class itself, without creating an instance.\n",
    "# To defiine a static method, we use the @staticmethod decorator."
   ]
  },
  {
   "cell_type": "code",
   "execution_count": 9,
   "id": "7bd0efcb",
   "metadata": {},
   "outputs": [],
   "source": [
    "# Static vs Instance methods"
   ]
  },
  {
   "cell_type": "code",
   "execution_count": 17,
   "id": "477885e1",
   "metadata": {},
   "outputs": [
    {
     "name": "stdout",
     "output_type": "stream",
     "text": [
      "deposit of ₹8000 for Hari. Current balance: ₹13000\n"
     ]
    },
    {
     "ename": "AttributeError",
     "evalue": "'BankAccount' object has no attribute '__log_transaction'",
     "output_type": "error",
     "traceback": [
      "\u001b[1;31m---------------------------------------------------------------------------\u001b[0m",
      "\u001b[1;31mAttributeError\u001b[0m                            Traceback (most recent call last)",
      "Cell \u001b[1;32mIn[17], line 28\u001b[0m\n\u001b[0;32m     25\u001b[0m hari \u001b[38;5;241m=\u001b[39m BankAccount(\u001b[38;5;124m\"\u001b[39m\u001b[38;5;124mHari\u001b[39m\u001b[38;5;124m\"\u001b[39m, \u001b[38;5;241m5000\u001b[39m)\n\u001b[0;32m     26\u001b[0m hari\u001b[38;5;241m.\u001b[39mdeposit(\u001b[38;5;241m8000\u001b[39m)\n\u001b[1;32m---> 28\u001b[0m \u001b[43mhari\u001b[49m\u001b[38;5;241;43m.\u001b[39;49m\u001b[43m__log_transaction\u001b[49m(\u001b[38;5;241m1000\u001b[39m, \u001b[38;5;124m\"\u001b[39m\u001b[38;5;124mwithdraw\u001b[39m\u001b[38;5;124m\"\u001b[39m)  \u001b[38;5;66;03m# This will raise an error since it's a private method\u001b[39;00m\n\u001b[0;32m     30\u001b[0m \u001b[38;5;28mprint\u001b[39m(BankAccount\u001b[38;5;241m.\u001b[39mis_valid_rate_interest(\u001b[38;5;241m3\u001b[39m))  \u001b[38;5;66;03m# True\u001b[39;00m\n\u001b[0;32m     31\u001b[0m \u001b[38;5;28mprint\u001b[39m(BankAccount\u001b[38;5;241m.\u001b[39mis_valid_rate_interest(\u001b[38;5;241m6\u001b[39m))  \u001b[38;5;66;03m# False\u001b[39;00m\n",
      "\u001b[1;31mAttributeError\u001b[0m: 'BankAccount' object has no attribute '__log_transaction'"
     ]
    }
   ],
   "source": [
    "class BankAccount:\n",
    "    min_balance = 1000  # Static attribute\n",
    "\n",
    "    def __init__(self, owner, balance):\n",
    "        self.owner = owner\n",
    "        self._balance = balance\n",
    "\n",
    "    def deposit(self, amount): # Instance method\n",
    "        if self._is_valid_amount(amount) > 0:\n",
    "            self._balance += amount\n",
    "            self.__log_transaction(amount, \"deposit\")\n",
    "        else:\n",
    "            print(\"Deposit amount must be more than 0.\")\n",
    "\n",
    "    @staticmethod\n",
    "    def is_valid_rate_interest(rate): # Static method\n",
    "        return 0 <= rate <= 5\n",
    "\n",
    "    def _is_valid_amount(self, amount): # Protected method\n",
    "        return amount > 0\n",
    "\n",
    "    def __log_transaction(self, amount, transaction_type): # Private method\n",
    "        print(f\"{transaction_type} of ₹{amount} for {self.owner}. Current balance: ₹{self._balance}\")\n",
    "\n",
    "hari = BankAccount(\"Hari\", 5000)\n",
    "hari.deposit(8000)\n",
    "\n",
    "hari.__log_transaction(1000, \"withdraw\")  # This will raise an error since it's a private method\n",
    "\n",
    "print(BankAccount.is_valid_rate_interest(3))  # True\n",
    "print(BankAccount.is_valid_rate_interest(6))  # False"
   ]
  },
  {
   "cell_type": "code",
   "execution_count": null,
   "id": "0dd591dc",
   "metadata": {},
   "outputs": [],
   "source": []
  }
 ],
 "metadata": {
  "kernelspec": {
   "display_name": "Python 3",
   "language": "python",
   "name": "python3"
  },
  "language_info": {
   "codemirror_mode": {
    "name": "ipython",
    "version": 3
   },
   "file_extension": ".py",
   "mimetype": "text/x-python",
   "name": "python",
   "nbconvert_exporter": "python",
   "pygments_lexer": "ipython3",
   "version": "3.9.13"
  }
 },
 "nbformat": 4,
 "nbformat_minor": 5
}
