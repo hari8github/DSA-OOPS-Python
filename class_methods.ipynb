{
 "cells": [
  {
   "cell_type": "code",
   "execution_count": 1,
   "id": "94d24dd6",
   "metadata": {},
   "outputs": [
    {
     "name": "stdout",
     "output_type": "stream",
     "text": [
      "<class 'int'>\n"
     ]
    }
   ],
   "source": [
    "x = 1\n",
    "print(type(x))"
   ]
  },
  {
   "cell_type": "code",
   "execution_count": 2,
   "id": "4b6e1be4",
   "metadata": {},
   "outputs": [
    {
     "name": "stdout",
     "output_type": "stream",
     "text": [
      "HI\n"
     ]
    }
   ],
   "source": [
    "string = \"hi\"\n",
    "print(string.upper())"
   ]
  },
  {
   "cell_type": "code",
   "execution_count": 7,
   "id": "2ea433f6",
   "metadata": {},
   "outputs": [
    {
     "name": "stdout",
     "output_type": "stream",
     "text": [
      "20\n",
      "bark\n",
      "<class '__main__.Dog'>\n"
     ]
    }
   ],
   "source": [
    "class Dog:\n",
    "\n",
    "    def add_one(self, h):\n",
    "        return h + 1\n",
    "\n",
    "    def bark(self):\n",
    "        print(\"bark\")\n",
    "\n",
    "d = Dog()\n",
    "print(d.add_one(19))\n",
    "d.bark()\n",
    "print(type(d))"
   ]
  },
  {
   "cell_type": "code",
   "execution_count": 15,
   "id": "07609301",
   "metadata": {},
   "outputs": [
    {
     "name": "stdout",
     "output_type": "stream",
     "text": [
      "jenni\n",
      "peni\n"
     ]
    }
   ],
   "source": [
    "class Dog:\n",
    "    def __init__(self, name):\n",
    "        self.name = name\n",
    "        print(name)\n",
    "\n",
    "    def add_one(self, h):\n",
    "        return h + 10000000000000000000000000000000\n",
    "\n",
    "d = Dog(\"jenni\")\n",
    "d2  =Dog(\"peni\")\n"
   ]
  },
  {
   "cell_type": "code",
   "execution_count": 16,
   "id": "2d8f6f13",
   "metadata": {},
   "outputs": [
    {
     "name": "stdout",
     "output_type": "stream",
     "text": [
      "hi\n",
      "hello\n"
     ]
    }
   ],
   "source": [
    "class Dog:\n",
    "    def __init__(self, name):\n",
    "        self.name = name\n",
    "\n",
    "d = Dog(\"hi\")\n",
    "print(d.name)\n",
    "d2 = Dog(\"hello\")\n",
    "print(d2.name)"
   ]
  },
  {
   "cell_type": "code",
   "execution_count": 25,
   "id": "07fe0390",
   "metadata": {},
   "outputs": [
    {
     "name": "stdout",
     "output_type": "stream",
     "text": [
      "sheldon\n",
      "22\n",
      "43\n"
     ]
    }
   ],
   "source": [
    "class Dog:\n",
    "    def __init__(self, name, age):\n",
    "        self.name = name\n",
    "        self.age = age\n",
    "\n",
    "    def get_name(self):\n",
    "        return self.name\n",
    "\n",
    "    def get_age(self):\n",
    "        return self.age\n",
    "\n",
    "    def set_age(self, age):\n",
    "        self.age = age\n",
    "\n",
    "d = Dog(\"sheldon\", 34)\n",
    "print(d.get_name(), )\n",
    "d2 = Dog(\"leonard\", 22)\n",
    "print(d2.get_age())\n",
    "\n",
    "age1 = d.set_age(43)\n",
    "print(d.get_age())"
   ]
  },
  {
   "cell_type": "markdown",
   "id": "9576f452",
   "metadata": {},
   "source": [
    "### Students and courses [ Multi - Class ]"
   ]
  },
  {
   "cell_type": "code",
   "execution_count": 33,
   "id": "3a3ee1bf",
   "metadata": {},
   "outputs": [
    {
     "name": "stdout",
     "output_type": "stream",
     "text": [
      "87.5\n",
      "[<__main__.Student object at 0x0000024B576D2E80>, <__main__.Student object at 0x0000024B5784A310>]\n",
      "leonard\n",
      "False\n"
     ]
    }
   ],
   "source": [
    "class Student:\n",
    "    def __init__(self, name, age, grade):\n",
    "        self.name = name\n",
    "        self.age = age\n",
    "        self.grade = grade  # 0 - 100\n",
    "\n",
    "    def get_grade(self):\n",
    "        return self.grade\n",
    "\n",
    "class Course:\n",
    "    def __init__(self, name, max_stds):\n",
    "        self.name = name\n",
    "        self.max_stds = max_stds\n",
    "        self.students = []\n",
    "\n",
    "# Adding a method to add students to the course where if the length of students is less than max_stds, the student is added.\n",
    "\n",
    "    def add_student(self, student):\n",
    "        if len(self.students) < self.max_stds:\n",
    "            self.students.append(student)\n",
    "            return True\n",
    "        return False\n",
    "\n",
    "    def get_avg_grade(self):\n",
    "        value = 0\n",
    "        for std in self.students:\n",
    "            value += std.get_grade()  # Always use the method name to access attributes instead of the # attribute directly.\n",
    "        return value / len(self.students)\n",
    "\n",
    "s1 = Student(\"sheldon\", 34, 90)\n",
    "s2 = Student(\"leonard\", 22, 85)\n",
    "s3 = Student(\"penny\", 28, 95)\n",
    "\n",
    "c = Course(\"physics\", 2)\n",
    "c.add_student(s1)\n",
    "c.add_student(s2)\n",
    "print(c.get_avg_grade())\n",
    "print(c.students)\n",
    "print(c.students[1].name)\n",
    "\n",
    "print(c.add_student(s3))  # This should return False because the course is full.\n"
   ]
  },
  {
   "cell_type": "code",
   "execution_count": null,
   "id": "858ea39e",
   "metadata": {},
   "outputs": [],
   "source": []
  }
 ],
 "metadata": {
  "kernelspec": {
   "display_name": "Python 3",
   "language": "python",
   "name": "python3"
  },
  "language_info": {
   "codemirror_mode": {
    "name": "ipython",
    "version": 3
   },
   "file_extension": ".py",
   "mimetype": "text/x-python",
   "name": "python",
   "nbconvert_exporter": "python",
   "pygments_lexer": "ipython3",
   "version": "3.9.13"
  }
 },
 "nbformat": 4,
 "nbformat_minor": 5
}
