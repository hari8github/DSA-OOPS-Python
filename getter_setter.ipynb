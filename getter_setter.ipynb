{
 "cells": [
  {
   "cell_type": "code",
   "execution_count": 11,
   "id": "7a5e8b0d",
   "metadata": {},
   "outputs": [
    {
     "name": "stdout",
     "output_type": "stream",
     "text": [
      "Accessed email at 2025-07-16 17:03:51.133922\n",
      "hari@gmail.com\n",
      "Accessed email at 2025-07-16 17:03:51.133922\n",
      "venkat@gmail.com\n",
      "Accessed email at 2025-07-16 17:03:51.133922\n",
      "invalid@\n"
     ]
    }
   ],
   "source": [
    "from datetime import datetime\n",
    "\n",
    "class User:\n",
    "    def __init__(self, name, email, password):\n",
    "        self.name = name\n",
    "        self._email = email  # Protected (typically not accessed outside the class)\n",
    "        self.password = password\n",
    "\n",
    "    def get_email(self):    # Get method is used to access the protected variable.\n",
    "        print(f\"Accessed email at {datetime.now()}\")\n",
    "        return self._email  # Get method is used here by defining the word \"get\" before the variable name.\n",
    "\n",
    "    def set_email(self, new_email):  # Set method to modify the protected variable.\n",
    "        if \"@\" in new_email:\n",
    "            self._email = new_email      # set method is used here by defining the word \"set\" before the variable name.\n",
    "        else:\n",
    "            return \"Invalid email format\"\n",
    "\n",
    "user1 = User(\"hari\", \"hari@gmail.com\", \"!23\")\n",
    "\n",
    "print(user1.get_email())\n",
    "\n",
    "user1.set_email(\"venkat@gmail.com\")\n",
    "print(user1.get_email())\n",
    "\n",
    "user1.set_email(\"invalid@\")\n",
    "print(user1.get_email())  \n"
   ]
  },
  {
   "cell_type": "markdown",
   "id": "5b691974",
   "metadata": {},
   "source": [
    "### @Properties"
   ]
  },
  {
   "cell_type": "code",
   "execution_count": 19,
   "id": "2e73caa8",
   "metadata": {},
   "outputs": [
    {
     "data": {
      "text/plain": [
       "\"Define the Attribute:\\nCreate the attribute in your class, typically with a single underscore prefix (e.g., _email) to indicate it's meant to be private.\\n\\nUse the @property Decorator:\\nAdd the @property decorator above a method that will act as the getter for the attribute.\\n\\nCreate the Getter Method:\\nDefine a method with the same name as the attribute (e.g., email). Inside the method, return the value of the private attribute (e.g., self._email).\\n\\nOptionally Add a Setter (if needed):\\nUse the @<property_name>.setter decorator to define a method for setting the attribute. Inside the method, you can include validation or custom logic before assigning the value.\""
      ]
     },
     "execution_count": 19,
     "metadata": {},
     "output_type": "execute_result"
    }
   ],
   "source": [
    "# @property is used to create getter and setter methods in a more Pythonic way.\n",
    "# It allows you to define methods that can be accessed like attributes, providing a cleaner interface.\n",
    "\n",
    "\"\"\"Define the Attribute:\n",
    "Create the attribute in your class, typically with a single underscore prefix (e.g., _email) to indicate it's meant to be private.\n",
    "\n",
    "Use the @property Decorator:\n",
    "Add the @property decorator above a method that will act as the getter for the attribute.\n",
    "\n",
    "Create the Getter Method:\n",
    "Define a method with the same name as the attribute (e.g., email). Inside the method, return the value of the private attribute (e.g., self._email).\n",
    "\n",
    "Optionally Add a Setter (if needed):\n",
    "Use the @<property_name>.setter decorator to define a method for setting the attribute. Inside the method, you can include validation or custom logic before assigning the value.\"\"\""
   ]
  },
  {
   "cell_type": "code",
   "execution_count": null,
   "id": "bded9f2b",
   "metadata": {},
   "outputs": [],
   "source": [
    "# Private"
   ]
  },
  {
   "cell_type": "code",
   "execution_count": 25,
   "id": "e4f97553",
   "metadata": {},
   "outputs": [
    {
     "name": "stdout",
     "output_type": "stream",
     "text": [
      "Email Accessed\n",
      "hari@gmail.com\n",
      "Email Accessed\n",
      "changed@gmail.com\n"
     ]
    }
   ],
   "source": [
    "class User:\n",
    "    def __init__(self, name, email, password):\n",
    "        self.name = name\n",
    "        self._email = email  # Private (typically not accessed outside the class)\n",
    "        self.password = password\n",
    "\n",
    "    @property # Advantage of using @property is that it allows you to access the method like an attribute with some validation.\n",
    "    def email(self): \n",
    "        print(\"Email Accessed\") # Getter method\n",
    "        return self._email\n",
    "\n",
    "    @email.setter\n",
    "    def email(self, new_email):  # Setter method\n",
    "        if \"@\" in new_email:\n",
    "            self._email = new_email\n",
    "\n",
    "user1 = User(\"hari\", \"hari@gmail.com\", \"!23\")\n",
    "print(user1.email)\n",
    "\n",
    "user1.email = \"changed@gmail.com\"\n",
    "print(user1.email)"
   ]
  },
  {
   "cell_type": "code",
   "execution_count": null,
   "id": "73c3362b",
   "metadata": {},
   "outputs": [],
   "source": [
    " "
   ]
  }
 ],
 "metadata": {
  "kernelspec": {
   "display_name": "Python 3",
   "language": "python",
   "name": "python3"
  },
  "language_info": {
   "codemirror_mode": {
    "name": "ipython",
    "version": 3
   },
   "file_extension": ".py",
   "mimetype": "text/x-python",
   "name": "python",
   "nbconvert_exporter": "python",
   "pygments_lexer": "ipython3",
   "version": "3.9.13"
  }
 },
 "nbformat": 4,
 "nbformat_minor": 5
}
