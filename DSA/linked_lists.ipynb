{
 "cells": [
  {
   "cell_type": "markdown",
   "id": "d48d8323",
   "metadata": {},
   "source": [
    "### Singly linked lists"
   ]
  },
  {
   "cell_type": "code",
   "execution_count": 1,
   "id": "4804f5a5",
   "metadata": {},
   "outputs": [],
   "source": [
    "class Singlynode:\n",
    "    def __init__(self, val, next = None):\n",
    "        self.val = val\n",
    "        self.next = next\n",
    "\n",
    "    def __str__(self):\n",
    "        return str(self.val)"
   ]
  },
  {
   "cell_type": "code",
   "execution_count": 2,
   "id": "f198e68c",
   "metadata": {},
   "outputs": [
    {
     "name": "stdout",
     "output_type": "stream",
     "text": [
      "1\n"
     ]
    }
   ],
   "source": [
    "head = Singlynode(1)\n",
    "\n",
    "a = Singlynode(2)\n",
    "b = Singlynode(3)\n",
    "c = Singlynode(4)\n",
    "\n",
    "head.next = a\n",
    "a.next = b\n",
    "b.next = c\n",
    "\n",
    "print(head)"
   ]
  },
  {
   "cell_type": "code",
   "execution_count": 3,
   "id": "660e6900",
   "metadata": {},
   "outputs": [
    {
     "name": "stdout",
     "output_type": "stream",
     "text": [
      "1\n",
      "2\n",
      "3\n",
      "4\n"
     ]
    }
   ],
   "source": [
    "# Traversing the list - O(n)\n",
    "\n",
    "curr = head\n",
    "\n",
    "while curr:\n",
    "    print(curr)\n",
    "    curr = curr.next"
   ]
  },
  {
   "cell_type": "code",
   "execution_count": 4,
   "id": "0dfcef25",
   "metadata": {},
   "outputs": [
    {
     "name": "stdout",
     "output_type": "stream",
     "text": [
      "1 -> 2 -> 3 -> 4\n"
     ]
    }
   ],
   "source": [
    "# display linked list - O(n)\n",
    "\n",
    "def display(head):\n",
    "    curr = head\n",
    "    elements = []\n",
    "    while curr:\n",
    "        elements.append(str(curr))\n",
    "        curr = curr.next\n",
    "    print(' -> '.join(elements))\n",
    "\n",
    "display(head)"
   ]
  },
  {
   "cell_type": "code",
   "execution_count": 10,
   "id": "85c92c6c",
   "metadata": {},
   "outputs": [
    {
     "data": {
      "text/plain": [
       "True"
      ]
     },
     "execution_count": 10,
     "metadata": {},
     "output_type": "execute_result"
    }
   ],
   "source": [
    "# Search for the node - O(n)\n",
    "\n",
    "def search(head, val):\n",
    "    curr = head\n",
    "    while curr:\n",
    "        if val == curr.val:\n",
    "            return True\n",
    "        curr = curr.next\n",
    "\n",
    "    return False\n",
    "\n",
    "search(head, 5)\n",
    "search(head, 3)"
   ]
  },
  {
   "cell_type": "markdown",
   "id": "93af122a",
   "metadata": {},
   "source": [
    "### Doubly linked list"
   ]
  },
  {
   "cell_type": "code",
   "execution_count": 11,
   "id": "b5f9c273",
   "metadata": {},
   "outputs": [],
   "source": [
    "class Doublynode:\n",
    "    def __init__(self, val, next = None, prev = None):\n",
    "        self.val = val\n",
    "        self.next = next\n",
    "        self.prev = prev\n",
    "\n",
    "    def __str__(self):\n",
    "        return str(self.val)\n",
    "    "
   ]
  },
  {
   "cell_type": "code",
   "execution_count": 12,
   "id": "b7ec9270",
   "metadata": {},
   "outputs": [
    {
     "name": "stdout",
     "output_type": "stream",
     "text": [
      "1 1\n"
     ]
    }
   ],
   "source": [
    "head = tail = Doublynode(1)\n",
    "\n",
    "print(head, tail)"
   ]
  },
  {
   "cell_type": "code",
   "execution_count": 13,
   "id": "01ede411",
   "metadata": {},
   "outputs": [
    {
     "name": "stdout",
     "output_type": "stream",
     "text": [
      "1\n"
     ]
    }
   ],
   "source": [
    "# Display - O(n)\n",
    "\n",
    "def display(head):\n",
    "    curr = head \n",
    "    elements = []\n",
    "    while curr:\n",
    "        elements.append(str(curr))\n",
    "        curr = curr.next\n",
    "    print(' <-> '.join(elements))\n",
    "\n",
    "display(head)\n"
   ]
  },
  {
   "cell_type": "code",
   "execution_count": 15,
   "id": "7c9b3e99",
   "metadata": {},
   "outputs": [
    {
     "name": "stdout",
     "output_type": "stream",
     "text": [
      "0 <-> 1\n"
     ]
    }
   ],
   "source": [
    "# Insert at the beginning - O(1)\n",
    "\n",
    "def insert_begin(head, tail, val):\n",
    "    new_node = Doublynode(val, next=head)\n",
    "    head.prev = new_node\n",
    "    return new_node, tail\n",
    "\n",
    "head, tail  = insert_begin(head, tail, 0)\n",
    "display(head)"
   ]
  },
  {
   "cell_type": "code",
   "execution_count": 17,
   "id": "5b31854c",
   "metadata": {},
   "outputs": [
    {
     "name": "stdout",
     "output_type": "stream",
     "text": [
      "0 <-> 1 <-> 2 <-> 2\n"
     ]
    }
   ],
   "source": [
    "# Append at the end - O(1)\n",
    "\n",
    "def insert_end(head, tail, val):\n",
    "    new_node = Doublynode(val, prev = tail)\n",
    "    tail.next = new_node\n",
    "    return head, new_node\n",
    "\n",
    "head, tail = insert_end(head, tail, 2)\n",
    "display(head)"
   ]
  },
  {
   "cell_type": "code",
   "execution_count": null,
   "id": "c56344a9",
   "metadata": {},
   "outputs": [],
   "source": []
  }
 ],
 "metadata": {
  "kernelspec": {
   "display_name": "Python 3",
   "language": "python",
   "name": "python3"
  },
  "language_info": {
   "codemirror_mode": {
    "name": "ipython",
    "version": 3
   },
   "file_extension": ".py",
   "mimetype": "text/x-python",
   "name": "python",
   "nbconvert_exporter": "python",
   "pygments_lexer": "ipython3",
   "version": "3.9.13"
  }
 },
 "nbformat": 4,
 "nbformat_minor": 5
}
