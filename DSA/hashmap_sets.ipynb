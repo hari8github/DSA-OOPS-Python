{
 "cells": [
  {
   "cell_type": "markdown",
   "id": "b3b43e30",
   "metadata": {},
   "source": [
    "### Hashsets"
   ]
  },
  {
   "cell_type": "code",
   "execution_count": 1,
   "id": "9d2aa89b",
   "metadata": {},
   "outputs": [
    {
     "name": "stdout",
     "output_type": "stream",
     "text": [
      "set()\n"
     ]
    }
   ],
   "source": [
    "s = set()\n",
    "print(s)"
   ]
  },
  {
   "cell_type": "code",
   "execution_count": 2,
   "id": "c613ae59",
   "metadata": {},
   "outputs": [
    {
     "name": "stdout",
     "output_type": "stream",
     "text": [
      "{1, 2, 3}\n"
     ]
    }
   ],
   "source": [
    "# Add items to the set - O(1)\n",
    "\n",
    "s.add(1)\n",
    "s.add(2)\n",
    "s.add(3)\n",
    "\n",
    "print(s)"
   ]
  },
  {
   "cell_type": "code",
   "execution_count": 5,
   "id": "deea2125",
   "metadata": {},
   "outputs": [
    {
     "name": "stdout",
     "output_type": "stream",
     "text": [
      "True\n",
      "False\n"
     ]
    }
   ],
   "source": [
    "# Lookup if item is in the set - O(1)\n",
    "\n",
    "if 1 in s:\n",
    "    print(True)\n",
    "\n",
    "if 4 in s:\n",
    "    print(True)\n",
    "else:\n",
    "    print(False)\n"
   ]
  },
  {
   "cell_type": "code",
   "execution_count": 6,
   "id": "4867cda9",
   "metadata": {},
   "outputs": [
    {
     "name": "stdout",
     "output_type": "stream",
     "text": [
      "{1, 2}\n"
     ]
    }
   ],
   "source": [
    "# Remove an item from the set - O(1)\n",
    "\n",
    "s.remove(3)\n",
    "print(s)"
   ]
  },
  {
   "cell_type": "code",
   "execution_count": 7,
   "id": "b436d6cc",
   "metadata": {},
   "outputs": [
    {
     "name": "stdout",
     "output_type": "stream",
     "text": [
      "{'a', 'c', 'e', 'b'}\n"
     ]
    }
   ],
   "source": [
    "# Set constructions - O(S) - S is the length of the string\n",
    "\n",
    "string = 'aaaaaaabbbbbbbbbbbccccccccceeeeeeeee'\n",
    "sett = set(string)\n",
    "\n",
    "print(sett)\n"
   ]
  },
  {
   "cell_type": "code",
   "execution_count": 8,
   "id": "80307ad0",
   "metadata": {},
   "outputs": [
    {
     "name": "stdout",
     "output_type": "stream",
     "text": [
      "1\n",
      "2\n"
     ]
    }
   ],
   "source": [
    "# Loop over the items in the set - O(N)\n",
    "\n",
    "for x in s:\n",
    "    print(x)"
   ]
  },
  {
   "cell_type": "markdown",
   "id": "aac1dd7d",
   "metadata": {},
   "source": [
    "### Hashmaps - Dictionaries"
   ]
  },
  {
   "cell_type": "code",
   "execution_count": 9,
   "id": "38ebc56f",
   "metadata": {},
   "outputs": [
    {
     "name": "stdout",
     "output_type": "stream",
     "text": [
      "{'greg': 1, 'john': 2, 'jane': 3}\n"
     ]
    }
   ],
   "source": [
    "d = {'greg' : 1, 'john': 2, 'jane': 3}\n",
    "print(d)"
   ]
  },
  {
   "cell_type": "code",
   "execution_count": 10,
   "id": "3a6a5734",
   "metadata": {},
   "outputs": [
    {
     "name": "stdout",
     "output_type": "stream",
     "text": [
      "{'greg': 1, 'john': 2, 'jane': 3, 'hari': 4}\n"
     ]
    }
   ],
   "source": [
    "# Add key : val in dictionary - O(1)\n",
    "\n",
    "d['hari'] = 4\n",
    "print(d)"
   ]
  },
  {
   "cell_type": "code",
   "execution_count": 11,
   "id": "24eac75f",
   "metadata": {},
   "outputs": [
    {
     "name": "stdout",
     "output_type": "stream",
     "text": [
      "True\n"
     ]
    }
   ],
   "source": [
    "# Check for presence of the key in the dictionary - O(1)\n",
    "\n",
    "if 'hari' in d:\n",
    "    print(True)\n",
    "else:\n",
    "    print(False)"
   ]
  },
  {
   "cell_type": "code",
   "execution_count": 12,
   "id": "116d85ea",
   "metadata": {},
   "outputs": [
    {
     "name": "stdout",
     "output_type": "stream",
     "text": [
      "4\n"
     ]
    }
   ],
   "source": [
    "# Check the value of the corresponding to a key in the dictionary - O(1)\n",
    "\n",
    "print(d['hari'])"
   ]
  },
  {
   "cell_type": "code",
   "execution_count": 13,
   "id": "d4b26355",
   "metadata": {},
   "outputs": [
    {
     "name": "stdout",
     "output_type": "stream",
     "text": [
      "key greg: val 1\n",
      "key john: val 2\n",
      "key jane: val 3\n",
      "key hari: val 4\n"
     ]
    }
   ],
   "source": [
    "# loop over the key:val paris if the dictionary - O(N)\n",
    "\n",
    "for key, val in d.items():\n",
    "    print(f'key {key}: val {val}')"
   ]
  },
  {
   "cell_type": "code",
   "execution_count": null,
   "id": "3b4d0c24",
   "metadata": {},
   "outputs": [
    {
     "data": {
      "text/plain": [
       "0"
      ]
     },
     "execution_count": 18,
     "metadata": {},
     "output_type": "execute_result"
    }
   ],
   "source": [
    "# Defaultdict - \n",
    "\n",
    "from collections import defaultdict\n",
    "\n",
    "default = defaultdict(int)\n",
    "default[1]"
   ]
  },
  {
   "cell_type": "code",
   "execution_count": 19,
   "id": "f433e36f",
   "metadata": {},
   "outputs": [
    {
     "data": {
      "text/plain": [
       "defaultdict(int, {1: 0})"
      ]
     },
     "execution_count": 19,
     "metadata": {},
     "output_type": "execute_result"
    }
   ],
   "source": [
    "default"
   ]
  },
  {
   "cell_type": "code",
   "execution_count": 17,
   "id": "14ade6cf",
   "metadata": {},
   "outputs": [
    {
     "name": "stdout",
     "output_type": "stream",
     "text": [
      "Counter({'b': 11, 'c': 9, 'e': 9, 'a': 7})\n"
     ]
    }
   ],
   "source": [
    "# Counter\n",
    "\n",
    "from collections import Counter\n",
    "\n",
    "counter = Counter(string)\n",
    "print(counter)"
   ]
  }
 ],
 "metadata": {
  "kernelspec": {
   "display_name": "Python 3",
   "language": "python",
   "name": "python3"
  },
  "language_info": {
   "codemirror_mode": {
    "name": "ipython",
    "version": 3
   },
   "file_extension": ".py",
   "mimetype": "text/x-python",
   "name": "python",
   "nbconvert_exporter": "python",
   "pygments_lexer": "ipython3",
   "version": "3.9.13"
  }
 },
 "nbformat": 4,
 "nbformat_minor": 5
}
