{
 "cells": [
  {
   "cell_type": "markdown",
   "id": "51682195",
   "metadata": {},
   "source": []
  },
  {
   "cell_type": "markdown",
   "id": "45491516",
   "metadata": {},
   "source": [
    "### Traditional Binary Search"
   ]
  },
  {
   "cell_type": "code",
   "execution_count": 4,
   "id": "4ee420e9",
   "metadata": {},
   "outputs": [
    {
     "name": "stdout",
     "output_type": "stream",
     "text": [
      "True\n"
     ]
    }
   ],
   "source": [
    "# Naive O(n) search\n",
    "A = [-5, -3, -2, 1, 5, 8]\n",
    "\n",
    "if 8 in A:\n",
    "    print(True)\n"
   ]
  },
  {
   "cell_type": "code",
   "execution_count": null,
   "id": "65e27b50",
   "metadata": {},
   "outputs": [
    {
     "name": "stdout",
     "output_type": "stream",
     "text": [
      "False\n",
      "True\n"
     ]
    }
   ],
   "source": [
    "# Traditional binary search.\n",
    "# Looking up if number is in the array\n",
    "\n",
    "# Time : O(log n)\n",
    "# Space : O(1)\n",
    "\n",
    "def binary_search(arr, target):  # Defining a function for finding a number.\n",
    "    N = len(arr)  # Length of the array.\n",
    "    L = 0  # L = Left. First index of the arr.\n",
    "    R = N-1  # R = Right. Last index of the arr.\n",
    "\n",
    "    while L <= R: # While loop to check if the left index is less than or equal to the right index.\n",
    "        M = L + ((R-L) // 2) # M = Middle. Finding the middle index of the array.\n",
    "\n",
    "        if arr[M] == target: # If the middle element is equal to the target number.\n",
    "            return True\n",
    "        elif target < arr[M]:   # If the target number is less than the middle element.\n",
    "            R = M - 1\n",
    "        else:   # If the target number is greater than the middle element.\n",
    "            L = M + 1\n",
    "    \n",
    "    return False\n",
    "\n",
    "print(binary_search(A, 7))\n",
    "print(binary_search(A, 8))"
   ]
  },
  {
   "cell_type": "markdown",
   "id": "a3b3739b",
   "metadata": {},
   "source": [
    "### binary search based on a condition."
   ]
  },
  {
   "cell_type": "code",
   "execution_count": 11,
   "id": "f00f34b0",
   "metadata": {},
   "outputs": [
    {
     "data": {
      "text/plain": [
       "4"
      ]
     },
     "execution_count": 11,
     "metadata": {},
     "output_type": "execute_result"
    }
   ],
   "source": [
    "# condition based\n",
    "\n",
    "B = [False, False, False, False, True, True]   # This is used to check the first True in the array.\n",
    "\n",
    "def binary_search_condition(arr):\n",
    "    N = len(arr)\n",
    "    L = 0\n",
    "    R = N - 1\n",
    "\n",
    "    while L < R: # If L = R, then we would have found the element. So the while breaks then.\n",
    "        M = (L + R) // 2\n",
    "\n",
    "        if arr[M]:  # If the middle element is True, move the right pointer to the middle\n",
    "            R = M\n",
    "        else:       # If the middle element is False, move the left pointer to M + 1\n",
    "            L = M + 1 \n",
    "\n",
    "    return L\n",
    "\n",
    "binary_search_condition(B)\n"
   ]
  }
 ],
 "metadata": {
  "kernelspec": {
   "display_name": "Python 3",
   "language": "python",
   "name": "python3"
  },
  "language_info": {
   "codemirror_mode": {
    "name": "ipython",
    "version": 3
   },
   "file_extension": ".py",
   "mimetype": "text/x-python",
   "name": "python",
   "nbconvert_exporter": "python",
   "pygments_lexer": "ipython3",
   "version": "3.9.13"
  }
 },
 "nbformat": 4,
 "nbformat_minor": 5
}
