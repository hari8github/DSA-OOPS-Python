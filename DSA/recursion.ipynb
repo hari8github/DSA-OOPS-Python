{
 "cells": [
  {
   "cell_type": "markdown",
   "id": "745b9809",
   "metadata": {},
   "source": [
    "### Fibonacci"
   ]
  },
  {
   "cell_type": "code",
   "execution_count": 12,
   "id": "01a9ba70",
   "metadata": {},
   "outputs": [
    {
     "name": "stdout",
     "output_type": "stream",
     "text": [
      "55\n",
      "144\n"
     ]
    }
   ],
   "source": [
    "# Fibonacci\n",
    "\n",
    "def f(n):\n",
    "    if n==0:\n",
    "        return 0\n",
    "    elif n==1:\n",
    "        return 1\n",
    "    else:\n",
    "        return f(n-1) + f(n-2)\n",
    "\n",
    "print(f(10))\n",
    "print(f(12))\n",
    "#print(f(100)) This will do 2 ** 10 operatuions, because the space complexity is O(n) and the time complexity is O(2 ** n)"
   ]
  },
  {
   "cell_type": "markdown",
   "id": "5473c5fa",
   "metadata": {},
   "source": [
    "### Reversal of Linked list"
   ]
  },
  {
   "cell_type": "code",
   "execution_count": 16,
   "id": "9e3cefb4",
   "metadata": {},
   "outputs": [
    {
     "name": "stdout",
     "output_type": "stream",
     "text": [
      "1\n"
     ]
    }
   ],
   "source": [
    "class Singlynode:\n",
    "    def __init__(self, val, next = None):\n",
    "        self.val = val\n",
    "        self.next = next\n",
    "\n",
    "    def __str__(self):\n",
    "        return str(self.val)\n",
    "\n",
    "head = Singlynode(1)\n",
    "a = Singlynode(2)\n",
    "b = Singlynode(3)\n",
    "c = Singlynode(4)\n",
    "\n",
    "head.next = a\n",
    "a.next = b\n",
    "b.next = c\n",
    "\n",
    "print(head)"
   ]
  },
  {
   "cell_type": "code",
   "execution_count": null,
   "id": "c2e57cd1",
   "metadata": {},
   "outputs": [
    {
     "name": "stdout",
     "output_type": "stream",
     "text": [
      "4\n",
      "3\n",
      "2\n",
      "1\n"
     ]
    }
   ],
   "source": [
    "def reverse (node):  # First it will print the last node, then the second last, and so on.\n",
    "    if not node:  # Base case: if the node is None, return\n",
    "        return \n",
    "\n",
    "    reverse(node.next)  # Recursive call to reverse the next node\n",
    "    print(node)\n",
    "\n",
    "reverse(head)"
   ]
  },
  {
   "cell_type": "code",
   "execution_count": 22,
   "id": "4bbcea5a",
   "metadata": {},
   "outputs": [
    {
     "name": "stdout",
     "output_type": "stream",
     "text": [
      "1 -> 2 -> 3 -> 4 -> None\n"
     ]
    }
   ],
   "source": [
    "def not_reversed(head):\n",
    "    current = head\n",
    "    while current:\n",
    "        print(current.val, end=\" -> \")\n",
    "        current = current.next\n",
    "    print(None)\n",
    "\n",
    "not_reversed(head)"
   ]
  },
  {
   "cell_type": "code",
   "execution_count": null,
   "id": "7bd770d5",
   "metadata": {},
   "outputs": [],
   "source": []
  }
 ],
 "metadata": {
  "kernelspec": {
   "display_name": "Python 3",
   "language": "python",
   "name": "python3"
  },
  "language_info": {
   "codemirror_mode": {
    "name": "ipython",
    "version": 3
   },
   "file_extension": ".py",
   "mimetype": "text/x-python",
   "name": "python",
   "nbconvert_exporter": "python",
   "pygments_lexer": "ipython3",
   "version": "3.9.13"
  }
 },
 "nbformat": 4,
 "nbformat_minor": 5
}
