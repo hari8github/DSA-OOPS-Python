{
 "cells": [
  {
   "cell_type": "markdown",
   "id": "9ad0c32d",
   "metadata": {},
   "source": [
    "### Binary trees"
   ]
  },
  {
   "cell_type": "code",
   "execution_count": 7,
   "id": "07b77a2a",
   "metadata": {},
   "outputs": [],
   "source": [
    "class TreeNode:\n",
    "    def __init__(self, val, left = None, right = None):\n",
    "        self.val = val\n",
    "        self.left = left\n",
    "        self.right = right\n",
    "\n",
    "    def __str__(self):\n",
    "        return str(self.val)"
   ]
  },
  {
   "cell_type": "markdown",
   "id": "2120c471",
   "metadata": {},
   "source": [
    "###                1\n",
    "\n",
    "###            2       3\n",
    "\n",
    "###          4   5    10"
   ]
  },
  {
   "cell_type": "code",
   "execution_count": 8,
   "id": "50f20b46",
   "metadata": {},
   "outputs": [
    {
     "name": "stdout",
     "output_type": "stream",
     "text": [
      "1\n"
     ]
    }
   ],
   "source": [
    "A = TreeNode(1)\n",
    "B = TreeNode(2)\n",
    "C = TreeNode(3)\n",
    "D = TreeNode(4)\n",
    "E = TreeNode(5)\n",
    "F = TreeNode(10)\n",
    "\n",
    "A.left = B\n",
    "A.right = C\n",
    "B.left = D\n",
    "B.right = E\n",
    "C.left = F\n",
    "\n",
    "print(A)"
   ]
  },
  {
   "cell_type": "code",
   "execution_count": 9,
   "id": "5af89e0f",
   "metadata": {},
   "outputs": [],
   "source": [
    "# Recursive preorder traversal (DFS) Time: O(n) Space: O(n)"
   ]
  },
  {
   "cell_type": "code",
   "execution_count": 11,
   "id": "d1afedf2",
   "metadata": {},
   "outputs": [
    {
     "name": "stdout",
     "output_type": "stream",
     "text": [
      "1\n",
      "2\n",
      "4\n",
      "5\n",
      "3\n",
      "10\n"
     ]
    }
   ],
   "source": [
    "def pre_order(node):\n",
    "    if not node:\n",
    "        return \n",
    "\n",
    "    print(node)\n",
    "    pre_order(node.left)\n",
    "    pre_order(node.right)\n",
    "\n",
    "pre_order(A)"
   ]
  },
  {
   "cell_type": "code",
   "execution_count": 12,
   "id": "7110d2b5",
   "metadata": {},
   "outputs": [],
   "source": [
    "# Recursive in order traversal (DFS) time : O(n) space = O(n)"
   ]
  },
  {
   "cell_type": "code",
   "execution_count": 14,
   "id": "1bc37bc0",
   "metadata": {},
   "outputs": [
    {
     "name": "stdout",
     "output_type": "stream",
     "text": [
      "4\n",
      "2\n",
      "5\n",
      "1\n",
      "10\n",
      "3\n"
     ]
    }
   ],
   "source": [
    "def in_order(node):\n",
    "    if not node:\n",
    "        return \n",
    "\n",
    "    in_order(node.left)\n",
    "    print(node)\n",
    "    in_order(node.right)\n",
    "\n",
    "in_order(A)"
   ]
  },
  {
   "cell_type": "code",
   "execution_count": 15,
   "id": "56416bc9",
   "metadata": {},
   "outputs": [],
   "source": [
    "# Recursive post order traversal (DFS) time = O(n), Space = O(n)"
   ]
  },
  {
   "cell_type": "code",
   "execution_count": 16,
   "id": "63b0e3ca",
   "metadata": {},
   "outputs": [
    {
     "name": "stdout",
     "output_type": "stream",
     "text": [
      "4\n",
      "5\n",
      "2\n",
      "10\n",
      "3\n",
      "1\n"
     ]
    }
   ],
   "source": [
    "def post_order(node):\n",
    "    if not node:\n",
    "        return\n",
    "\n",
    "    post_order(node.left)\n",
    "    post_order(node.right)\n",
    "    print(node)\n",
    "\n",
    "post_order(A)"
   ]
  },
  {
   "cell_type": "code",
   "execution_count": 17,
   "id": "552989dc",
   "metadata": {},
   "outputs": [],
   "source": [
    "# Iterative preorder traversal (DFS) Time: O(n) Space: O(n)"
   ]
  },
  {
   "cell_type": "code",
   "execution_count": 20,
   "id": "35ffd5d9",
   "metadata": {},
   "outputs": [
    {
     "name": "stdout",
     "output_type": "stream",
     "text": [
      "1\n",
      "2\n",
      "4\n",
      "5\n",
      "3\n",
      "10\n"
     ]
    }
   ],
   "source": [
    "def pre_order_iterative(node):\n",
    "    stk = [node]\n",
    "\n",
    "    while stk:\n",
    "        node = stk.pop()\n",
    "\n",
    "        print(node)\n",
    "        if node.right: stk.append(node.right)\n",
    "        if node.left: stk.append(node.left) \n",
    "\n",
    "        # Even if the print statement is placed somewhere else in the loop, the result is going to be the same.\n",
    "\n",
    "pre_order_iterative(A)"
   ]
  },
  {
   "cell_type": "markdown",
   "id": "131a7a11",
   "metadata": {},
   "source": [
    "### BFS"
   ]
  },
  {
   "cell_type": "code",
   "execution_count": 21,
   "id": "86b59cc4",
   "metadata": {},
   "outputs": [
    {
     "name": "stdout",
     "output_type": "stream",
     "text": [
      "1\n",
      "2\n",
      "3\n",
      "4\n",
      "5\n",
      "10\n"
     ]
    }
   ],
   "source": [
    "from collections import deque\n",
    "\n",
    "def level_order(node):\n",
    "\n",
    "    q = deque()\n",
    "    q.append(node)\n",
    "\n",
    "    while q:\n",
    "        node = q.popleft()\n",
    "\n",
    "        print(node)\n",
    "        if node.left : q.append(node.left)\n",
    "        if node.right : q.append(node.right)\n",
    "\n",
    "level_order(A)"
   ]
  },
  {
   "cell_type": "code",
   "execution_count": 22,
   "id": "4aa6d031",
   "metadata": {},
   "outputs": [],
   "source": [
    "# Check if the value exists (DFS)"
   ]
  },
  {
   "cell_type": "code",
   "execution_count": 27,
   "id": "f96917d3",
   "metadata": {},
   "outputs": [
    {
     "name": "stdout",
     "output_type": "stream",
     "text": [
      "True False\n"
     ]
    }
   ],
   "source": [
    "def search(node, target):\n",
    "\n",
    "    if not node:\n",
    "        return False\n",
    "\n",
    "    if node.val == target:\n",
    "        return True\n",
    "\n",
    "    return search(node.left, target) or search(node.right, target)\n",
    "\n",
    "print(search(A, 10),\n",
    "search(A, 7))"
   ]
  },
  {
   "cell_type": "markdown",
   "id": "89afddfa",
   "metadata": {},
   "source": [
    "### Binary search Tree"
   ]
  },
  {
   "cell_type": "code",
   "execution_count": 28,
   "id": "e102d94a",
   "metadata": {},
   "outputs": [
    {
     "name": "stdout",
     "output_type": "stream",
     "text": [
      "5\n"
     ]
    }
   ],
   "source": [
    "# Binary Search Trees (BSTs)\n",
    "\n",
    "#       5\n",
    "#    1    8\n",
    "#  -1 3  7 9\n",
    "\n",
    "A2 = TreeNode(5)\n",
    "B2 = TreeNode(1)\n",
    "C2 = TreeNode(8)\n",
    "D2 = TreeNode(-1)\n",
    "E2 = TreeNode(3)\n",
    "F2 = TreeNode(7)\n",
    "G2 = TreeNode(9)\n",
    "\n",
    "A2.left, A2.right = B2, C2\n",
    "B2.left, B2.right = D2, E2\n",
    "C2.left, C2.right = F2, G2\n",
    "\n",
    "print(A2)"
   ]
  },
  {
   "cell_type": "code",
   "execution_count": 29,
   "id": "5541337b",
   "metadata": {},
   "outputs": [
    {
     "name": "stdout",
     "output_type": "stream",
     "text": [
      "-1\n",
      "1\n",
      "3\n",
      "5\n",
      "7\n",
      "8\n",
      "9\n"
     ]
    }
   ],
   "source": [
    "in_order(A2)"
   ]
  },
  {
   "cell_type": "code",
   "execution_count": 32,
   "id": "c7658542",
   "metadata": {},
   "outputs": [
    {
     "name": "stdout",
     "output_type": "stream",
     "text": [
      "True False\n"
     ]
    }
   ],
   "source": [
    "def search_bst(node, target):\n",
    "    \n",
    "    if not node:\n",
    "        return False\n",
    "\n",
    "    if node.val == target:\n",
    "        return True\n",
    "\n",
    "    if target < node.val:\n",
    "        return search_bst(node.left, target)\n",
    "    else:\n",
    "        return search_bst(node.right, target)\n",
    "\n",
    "print(search_bst(A2, 8), search_bst(A2, 99))"
   ]
  }
 ],
 "metadata": {
  "kernelspec": {
   "display_name": "Python 3",
   "language": "python",
   "name": "python3"
  },
  "language_info": {
   "codemirror_mode": {
    "name": "ipython",
    "version": 3
   },
   "file_extension": ".py",
   "mimetype": "text/x-python",
   "name": "python",
   "nbconvert_exporter": "python",
   "pygments_lexer": "ipython3",
   "version": "3.9.13"
  }
 },
 "nbformat": 4,
 "nbformat_minor": 5
}
