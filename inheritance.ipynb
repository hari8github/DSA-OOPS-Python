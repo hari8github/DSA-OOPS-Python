{
 "cells": [
  {
   "cell_type": "markdown",
   "id": "62a6e827",
   "metadata": {},
   "source": [
    "### Inheritance"
   ]
  },
  {
   "cell_type": "code",
   "execution_count": null,
   "id": "7575757a",
   "metadata": {},
   "outputs": [
    {
     "name": "stdout",
     "output_type": "stream",
     "text": [
      "I am jenni and I am 5 years young!\n",
      "I am cat and I am 9 years young!\n",
      "meow\n",
      "Bark\n",
      "I am a pet, I can speak in my own way!\n"
     ]
    }
   ],
   "source": [
    "class Pet:  #general [parent]\n",
    "    def __init__(self, name, age):\n",
    "        self.name = name\n",
    "        self.age = age\n",
    "\n",
    "    def show(self):\n",
    "        print(f\"I am {self.name} and I am {self.age} years young!\")\n",
    "\n",
    "    def speak(self):\n",
    "        print(\"I am a pet, I can speak in my own way!\")\n",
    "\n",
    "\n",
    "class Cat(Pet):  #specific [child]\n",
    "\n",
    "    def __init__(self, name, age, color):\n",
    "        self.color = color\n",
    "        super().__init__(name, age)  # Call the PARENT class's init directly.\n",
    "\n",
    "    def speak(self):\n",
    "        print(\"meow\")\n",
    "\n",
    "    def show(self):\n",
    "        print(f\"I am {self.name} and I am {self.age} years young and I am {self.color}\")\n",
    "\n",
    "\n",
    "class Dog(Pet):  #specific [child]\n",
    "    def speak(self):\n",
    "        print(\"Bark\")\n",
    "\n",
    "class Fish(Pet):  #specific [child]\n",
    "    pass\n",
    "\n",
    "p = Pet(\"jenni\", 5)\n",
    "p.show()\n",
    "\n",
    "c = Cat(\"cat\", 9) # The cat class inherited Pet class. Same for Dog\n",
    "c.show()\n",
    "c.speak()\n",
    "\n",
    "d = Dog(\"dog\", 100000000000000000000)\n",
    "d.speak()\n",
    "\n",
    "f = Fish(\"fish\", 1)\n",
    "f.speak() # Fish does not have a speak method, so it will use the parent class's speak method"
   ]
  },
  {
   "cell_type": "code",
   "execution_count": null,
   "id": "b27baa14",
   "metadata": {},
   "outputs": [],
   "source": []
  }
 ],
 "metadata": {
  "kernelspec": {
   "display_name": "Python 3",
   "language": "python",
   "name": "python3"
  },
  "language_info": {
   "codemirror_mode": {
    "name": "ipython",
    "version": 3
   },
   "file_extension": ".py",
   "mimetype": "text/x-python",
   "name": "python",
   "nbconvert_exporter": "python",
   "pygments_lexer": "ipython3",
   "version": "3.9.13"
  }
 },
 "nbformat": 4,
 "nbformat_minor": 5
}
